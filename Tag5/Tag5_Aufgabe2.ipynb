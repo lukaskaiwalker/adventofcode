{
 "cells": [
  {
   "cell_type": "code",
   "execution_count": 21,
   "metadata": {},
   "outputs": [],
   "source": [
    "file= open('Aufgabe5.csv', 'r')\n",
    "Lines = file.readlines()"
   ]
  },
  {
   "cell_type": "code",
   "execution_count": 22,
   "metadata": {},
   "outputs": [],
   "source": [
    "max=0\n",
    "seats=[]\n",
    "\n",
    "for line in Lines:\n",
    "    actual=0\n",
    "    \n",
    "    row = line[:7]\n",
    "    rowNum=row.replace('F','0')\n",
    "    rowNum2=rowNum.replace('B','1')\n",
    "    row=int(rowNum2, 2)\n",
    "    \n",
    "    column= line [7:10]\n",
    "    colNum=column.replace('L','0')\n",
    "    colNum2=colNum.replace('R','1')\n",
    "    column=int(colNum2, 2)\n",
    "    \n",
    "    actual = row * 8 + column\n",
    "    seats.append(actual)\n"
   ]
  },
  {
   "cell_type": "code",
   "execution_count": 23,
   "metadata": {},
   "outputs": [
    {
     "name": "stdout",
     "output_type": "stream",
     "text": [
      "617\n"
     ]
    }
   ],
   "source": [
    "for i in range(28,842):\n",
    "    if i not in seats:\n",
    "        print(i)"
   ]
  }
 ],
 "metadata": {
  "kernelspec": {
   "display_name": "parameterA",
   "language": "python",
   "name": "parametera"
  },
  "language_info": {
   "codemirror_mode": {
    "name": "ipython",
    "version": 3
   },
   "file_extension": ".py",
   "mimetype": "text/x-python",
   "name": "python",
   "nbconvert_exporter": "python",
   "pygments_lexer": "ipython3",
   "version": "3.8.6"
  }
 },
 "nbformat": 4,
 "nbformat_minor": 4
}
