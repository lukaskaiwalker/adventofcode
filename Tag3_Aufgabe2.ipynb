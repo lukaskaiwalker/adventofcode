{
 "cells": [
  {
   "cell_type": "code",
   "execution_count": 2,
   "metadata": {},
   "outputs": [],
   "source": [
    "import pandas as pd"
   ]
  },
  {
   "cell_type": "code",
   "execution_count": 17,
   "metadata": {},
   "outputs": [
    {
     "data": {
      "text/html": [
       "<div>\n",
       "<style scoped>\n",
       "    .dataframe tbody tr th:only-of-type {\n",
       "        vertical-align: middle;\n",
       "    }\n",
       "\n",
       "    .dataframe tbody tr th {\n",
       "        vertical-align: top;\n",
       "    }\n",
       "\n",
       "    .dataframe thead th {\n",
       "        text-align: right;\n",
       "    }\n",
       "</style>\n",
       "<table border=\"1\" class=\"dataframe\">\n",
       "  <thead>\n",
       "    <tr style=\"text-align: right;\">\n",
       "      <th></th>\n",
       "      <th>trees</th>\n",
       "    </tr>\n",
       "  </thead>\n",
       "  <tbody>\n",
       "    <tr>\n",
       "      <th>0</th>\n",
       "      <td>.........#....#.###.........##.</td>\n",
       "    </tr>\n",
       "    <tr>\n",
       "      <th>1</th>\n",
       "      <td>..###.#......#......#.......##.</td>\n",
       "    </tr>\n",
       "    <tr>\n",
       "      <th>2</th>\n",
       "      <td>##....#.#.......#.....#........</td>\n",
       "    </tr>\n",
       "    <tr>\n",
       "      <th>3</th>\n",
       "      <td>#........#..........#.#...#...#</td>\n",
       "    </tr>\n",
       "    <tr>\n",
       "      <th>4</th>\n",
       "      <td>#....###...##.....#........#...</td>\n",
       "    </tr>\n",
       "    <tr>\n",
       "      <th>...</th>\n",
       "      <td>...</td>\n",
       "    </tr>\n",
       "    <tr>\n",
       "      <th>318</th>\n",
       "      <td>#.#....#.......#..#.##.##......</td>\n",
       "    </tr>\n",
       "    <tr>\n",
       "      <th>319</th>\n",
       "      <td>.#.....#..#..#......#....#.#...</td>\n",
       "    </tr>\n",
       "    <tr>\n",
       "      <th>320</th>\n",
       "      <td>...#..........................#</td>\n",
       "    </tr>\n",
       "    <tr>\n",
       "      <th>321</th>\n",
       "      <td>............#.#..#.##......#...</td>\n",
       "    </tr>\n",
       "    <tr>\n",
       "      <th>322</th>\n",
       "      <td>.....#..........#.#........#.#.</td>\n",
       "    </tr>\n",
       "  </tbody>\n",
       "</table>\n",
       "<p>323 rows × 1 columns</p>\n",
       "</div>"
      ],
      "text/plain": [
       "                               trees\n",
       "0    .........#....#.###.........##.\n",
       "1    ..###.#......#......#.......##.\n",
       "2    ##....#.#.......#.....#........\n",
       "3    #........#..........#.#...#...#\n",
       "4    #....###...##.....#........#...\n",
       "..                               ...\n",
       "318  #.#....#.......#..#.##.##......\n",
       "319  .#.....#..#..#......#....#.#...\n",
       "320  ...#..........................#\n",
       "321  ............#.#..#.##......#...\n",
       "322  .....#..........#.#........#.#.\n",
       "\n",
       "[323 rows x 1 columns]"
      ]
     },
     "execution_count": 17,
     "metadata": {},
     "output_type": "execute_result"
    }
   ],
   "source": [
    "df = pd.read_csv('Aufgabe3.csv', names=['trees'])\n",
    "df"
   ]
  },
  {
   "cell_type": "code",
   "execution_count": 19,
   "metadata": {},
   "outputs": [],
   "source": [
    "def split(word): \n",
    "    return [char for char in word]  "
   ]
  },
  {
   "cell_type": "code",
   "execution_count": 62,
   "metadata": {},
   "outputs": [],
   "source": [
    "def slope(right, down):\n",
    "    i=0\n",
    "    j=0\n",
    "    pos_hor=0\n",
    "    anzahl_baeume = 0\n",
    "    while i < len(df):\n",
    "        i += down\n",
    "        if i >322:\n",
    "            break\n",
    "        x=split(df.loc[i,'trees'])\n",
    "        while j < right:\n",
    "            pos_hor += 1\n",
    "            if pos_hor == 31:\n",
    "                pos_hor = 0\n",
    "            j += 1\n",
    "        if x[pos_hor]=='#':\n",
    "            anzahl_baeume = anzahl_baeume + 1\n",
    "        j = 0\n",
    "    print(anzahl_baeume)\n",
    "    return anzahl_baeume"
   ]
  },
  {
   "cell_type": "code",
   "execution_count": 63,
   "metadata": {},
   "outputs": [
    {
     "name": "stdout",
     "output_type": "stream",
     "text": [
      "70\n",
      "240\n",
      "68\n",
      "67\n",
      "37\n",
      "Die Lösung ist: 2832009600\n"
     ]
    }
   ],
   "source": [
    "a=slope(1,1)\n",
    "b=slope(3,1)\n",
    "c=slope(5,1)\n",
    "d=slope(7,1)\n",
    "e=slope(1,2)\n",
    "print(\"Die Lösung ist: \" + str(a*b*c*d*e))"
   ]
  }
 ],
 "metadata": {
  "kernelspec": {
   "display_name": "parameterA",
   "language": "python",
   "name": "parametera"
  },
  "language_info": {
   "codemirror_mode": {
    "name": "ipython",
    "version": 3
   },
   "file_extension": ".py",
   "mimetype": "text/x-python",
   "name": "python",
   "nbconvert_exporter": "python",
   "pygments_lexer": "ipython3",
   "version": "3.8.6"
  }
 },
 "nbformat": 4,
 "nbformat_minor": 4
}
