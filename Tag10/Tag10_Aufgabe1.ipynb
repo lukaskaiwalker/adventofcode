{
 "cells": [
  {
   "cell_type": "code",
   "execution_count": 1,
   "metadata": {},
   "outputs": [],
   "source": [
    "file = open('Aufgabe10.csv', 'r')\n",
    "Lines = file.readlines()"
   ]
  },
  {
   "cell_type": "code",
   "execution_count": 2,
   "metadata": {},
   "outputs": [],
   "source": [
    "i=0\n",
    "while i< len(Lines):\n",
    "    line = str(Lines[i])\n",
    "    line = line.replace('\\n', '')\n",
    "    line = int(line)\n",
    "    Lines[i]=line\n",
    "    i+=1"
   ]
  },
  {
   "cell_type": "code",
   "execution_count": 4,
   "metadata": {},
   "outputs": [],
   "source": [
    "Lines.sort()"
   ]
  },
  {
   "cell_type": "code",
   "execution_count": 13,
   "metadata": {},
   "outputs": [
    {
     "name": "stdout",
     "output_type": "stream",
     "text": [
      "2400\n"
     ]
    }
   ],
   "source": [
    "einserAnzahl = 1\n",
    "zweierAnzahl = 0\n",
    "dreierAnzahl = 0\n",
    "for i in range(len(Lines)):\n",
    "    if i < len(Lines)-1:\n",
    "        differenz = Lines[i+1]-Lines[i]\n",
    "        if differenz == 1:\n",
    "            einserAnzahl += 1\n",
    "        elif differenz == 2:\n",
    "            zweierAnzahl += 1\n",
    "        elif differenz == 3:\n",
    "            dreierAnzahl += 1\n",
    "    else:\n",
    "        dreierAnzahl += 1\n",
    "print(einserAnzahl * dreierAnzahl)"
   ]
  }
 ],
 "metadata": {
  "kernelspec": {
   "display_name": "Python 3",
   "language": "python",
   "name": "python3"
  },
  "language_info": {
   "codemirror_mode": {
    "name": "ipython",
    "version": 3
   },
   "file_extension": ".py",
   "mimetype": "text/x-python",
   "name": "python",
   "nbconvert_exporter": "python",
   "pygments_lexer": "ipython3",
   "version": "3.7.4"
  }
 },
 "nbformat": 4,
 "nbformat_minor": 2
}
