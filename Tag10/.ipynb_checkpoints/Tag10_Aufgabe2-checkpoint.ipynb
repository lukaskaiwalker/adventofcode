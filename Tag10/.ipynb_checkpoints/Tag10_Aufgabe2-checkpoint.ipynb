{
 "cells": [
  {
   "cell_type": "code",
   "execution_count": 9,
   "metadata": {},
   "outputs": [],
   "source": [
    "file = open('Aufgabe10.csv', 'r')\n",
    "file1 = open('Aufgabe10_Test1.csv', 'r')\n",
    "file2 = open('Aufgabe10_Test2.csv', 'r')\n",
    "Lines = file1.readlines()"
   ]
  },
  {
   "cell_type": "code",
   "execution_count": 10,
   "metadata": {},
   "outputs": [],
   "source": [
    "i=0\n",
    "while i< len(Lines):\n",
    "    line = str(Lines[i])\n",
    "    line = line.replace('\\n', '')\n",
    "    line = int(line)\n",
    "    Lines[i]=line\n",
    "    i+=1"
   ]
  },
  {
   "cell_type": "code",
   "execution_count": 11,
   "metadata": {},
   "outputs": [],
   "source": [
    "Lines.sort()"
   ]
  },
  {
   "cell_type": "code",
   "execution_count": 12,
   "metadata": {},
   "outputs": [
    {
     "data": {
      "text/plain": [
       "[1, 4, 5, 6, 7, 10, 11, 12, 15, 16, 19]"
      ]
     },
     "execution_count": 12,
     "metadata": {},
     "output_type": "execute_result"
    }
   ],
   "source": [
    "Lines"
   ]
  },
  {
   "cell_type": "code",
   "execution_count": 6,
   "metadata": {},
   "outputs": [
    {
     "name": "stdout",
     "output_type": "stream",
     "text": [
      "2400\n"
     ]
    }
   ],
   "source": [
    "einserAnzahl = 1\n",
    "zweierAnzahl = 0\n",
    "dreierAnzahl = 0\n",
    "for i in range(len(Lines)):\n",
    "    if i < len(Lines)-1:\n",
    "        differenz = Lines[i+1]-Lines[i]\n",
    "        if differenz == 1:\n",
    "            einserAnzahl += 1\n",
    "        elif differenz == 2:\n",
    "            zweierAnzahl += 1\n",
    "        elif differenz == 3:\n",
    "            dreierAnzahl += 1\n",
    "    else:\n",
    "        dreierAnzahl += 1\n",
    "print(einserAnzahl * dreierAnzahl)"
   ]
  },
  {
   "cell_type": "code",
   "execution_count": null,
   "metadata": {},
   "outputs": [],
   "source": [
    "#Jede Zahl guckt, welche Zahlen nach ihr kommen können\n",
    "#0 -> 1,2,3\n",
    "#1 -> 2,3,4\n",
    "#2 -> 3,4\n",
    "#3 -> 4\n",
    "#4 -> 7\n",
    "#7 -> 8,9,10\n",
    "#\n",
    "#\n",
    "#\n",
    "#\n",
    "#"
   ]
  }
 ],
 "metadata": {
  "kernelspec": {
   "display_name": "Python 3",
   "language": "python",
   "name": "python3"
  },
  "language_info": {
   "codemirror_mode": {
    "name": "ipython",
    "version": 3
   },
   "file_extension": ".py",
   "mimetype": "text/x-python",
   "name": "python",
   "nbconvert_exporter": "python",
   "pygments_lexer": "ipython3",
   "version": "3.7.4"
  }
 },
 "nbformat": 4,
 "nbformat_minor": 2
}
