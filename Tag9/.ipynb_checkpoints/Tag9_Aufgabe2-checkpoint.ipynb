{
 "cells": [
  {
   "cell_type": "code",
   "execution_count": 1,
   "metadata": {},
   "outputs": [],
   "source": [
    "import itertools"
   ]
  },
  {
   "cell_type": "code",
   "execution_count": 2,
   "metadata": {},
   "outputs": [],
   "source": [
    "file = open('Aufgabe9.csv', 'r')\n",
    "Lines = file.readlines()"
   ]
  },
  {
   "cell_type": "code",
   "execution_count": 3,
   "metadata": {},
   "outputs": [],
   "source": [
    "i=0\n",
    "while i< len(Lines):\n",
    "    line = str(Lines[i])\n",
    "    line = line.replace('\\n', '')\n",
    "    line = int(line)\n",
    "    Lines[i]=line\n",
    "    i+=1"
   ]
  },
  {
   "cell_type": "code",
   "execution_count": 22,
   "metadata": {},
   "outputs": [
    {
     "name": "stdout",
     "output_type": "stream",
     "text": [
      "[13369727, 14611596, 15901504, 16401517, 16404666, 17289885, 17445999, 20827932, 21662249, 22094301, 22703582, 22826688, 22829837, 25749882, 30933260, 33229438, 40772857]\n",
      "Lösung ist: 54142584\n"
     ]
    }
   ],
   "source": [
    "target = 375054920\n",
    "for j in range(2,607):\n",
    "    laenge = j\n",
    "    for i in range(607):\n",
    "        if sum(Lines[i:i+laenge])==target:\n",
    "            ergebnis=list(Lines[i:i+laenge])\n",
    "            ergebnis.sort()\n",
    "            print(ergebnis)\n",
    "            print('Lösung ist: ' + str(ergebnis[0]+ergebnis[-1]))\n"
   ]
  }
 ],
 "metadata": {
  "kernelspec": {
   "display_name": "Python 3",
   "language": "python",
   "name": "python3"
  },
  "language_info": {
   "codemirror_mode": {
    "name": "ipython",
    "version": 3
   },
   "file_extension": ".py",
   "mimetype": "text/x-python",
   "name": "python",
   "nbconvert_exporter": "python",
   "pygments_lexer": "ipython3",
   "version": "3.7.4"
  }
 },
 "nbformat": 4,
 "nbformat_minor": 2
}
