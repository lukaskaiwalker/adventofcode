{
 "cells": [
  {
   "cell_type": "code",
   "execution_count": 1,
   "metadata": {},
   "outputs": [],
   "source": [
    "import itertools"
   ]
  },
  {
   "cell_type": "code",
   "execution_count": 2,
   "metadata": {},
   "outputs": [],
   "source": [
    "file = open('Aufgabe9.csv', 'r')\n",
    "Lines = file.readlines()"
   ]
  },
  {
   "cell_type": "code",
   "execution_count": 3,
   "metadata": {},
   "outputs": [],
   "source": [
    "i=0\n",
    "while i< len(Lines):\n",
    "    line = str(Lines[i])\n",
    "    line = line.replace('\\n', '')\n",
    "    line = int(line)\n",
    "    Lines[i]=line\n",
    "    i+=1"
   ]
  },
  {
   "cell_type": "code",
   "execution_count": 4,
   "metadata": {},
   "outputs": [
    {
     "name": "stdout",
     "output_type": "stream",
     "text": [
      "375054920\n"
     ]
    }
   ],
   "source": [
    "i=26\n",
    "for i in range(25,len(Lines)):\n",
    "    found = 0\n",
    "    target = Lines[i]\n",
    "    TestLines = Lines[i-25:i]\n",
    "    for numbers in itertools.combinations(TestLines,2):\n",
    "        if sum(numbers) == target:\n",
    "            found = 1\n",
    "    if found == 0:\n",
    "        print(target)"
   ]
  }
 ],
 "metadata": {
  "kernelspec": {
   "display_name": "Python 3",
   "language": "python",
   "name": "python3"
  },
  "language_info": {
   "codemirror_mode": {
    "name": "ipython",
    "version": 3
   },
   "file_extension": ".py",
   "mimetype": "text/x-python",
   "name": "python",
   "nbconvert_exporter": "python",
   "pygments_lexer": "ipython3",
   "version": "3.7.4"
  }
 },
 "nbformat": 4,
 "nbformat_minor": 2
}
