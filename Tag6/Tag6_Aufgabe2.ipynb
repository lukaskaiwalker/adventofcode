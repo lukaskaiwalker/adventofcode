{
 "cells": [
  {
   "cell_type": "code",
   "execution_count": 2,
   "metadata": {},
   "outputs": [],
   "source": [
    "file= open('Aufgabe6.csv', 'r')\n",
    "Lines = file.readlines()"
   ]
  },
  {
   "cell_type": "code",
   "execution_count": 40,
   "metadata": {},
   "outputs": [
    {
     "data": {
      "text/plain": [
       "3427"
      ]
     },
     "execution_count": 40,
     "metadata": {},
     "output_type": "execute_result"
    }
   ],
   "source": [
    "amount=[]\n",
    "groups=[]\n",
    "answer=[]\n",
    "for line in Lines:\n",
    "    if line != '\\n':\n",
    "        for char in line:\n",
    "            if char != '\\n':\n",
    "                amount.append(char)\n",
    "        groups.append(amount)\n",
    "        amount=[]        \n",
    "    else:\n",
    "        for i in range(1, len(groups)):\n",
    "            everyone=set(groups[i])&set(groups[0])\n",
    "            groups[0]=everyone\n",
    "        answer.append(len(groups[0]))\n",
    "        groups=[]\n",
    "\n",
    "for i in range(1, len(groups)):\n",
    "    everyone=set(groups[i])&set(groups[0])\n",
    "    groups[0]=everyone\n",
    "answer.append(len(groups[0]))\n",
    "sum(answer)"
   ]
  },
  {
   "cell_type": "code",
   "execution_count": 28,
   "metadata": {},
   "outputs": [
    {
     "name": "stdout",
     "output_type": "stream",
     "text": [
      "{3, 4}\n"
     ]
    }
   ],
   "source": [
    "Bla = [[1,2,3,4], [2,3,4], [3,4,5]]\n",
    "set(Bla[2])&set(Bla[0])\n",
    "j=0\n",
    "for i in range(0,len(Bla)):\n",
    "    Blub=set(Bla[i])&set(Bla[j])\n",
    "    Bla[j]=Blub\n",
    "print(Blub)"
   ]
  },
  {
   "cell_type": "code",
   "execution_count": 17,
   "metadata": {},
   "outputs": [
    {
     "data": {
      "text/plain": [
       "{3}"
      ]
     },
     "execution_count": 17,
     "metadata": {},
     "output_type": "execute_result"
    }
   ],
   "source": [
    "set(Bla[0]).intersection(Bla[1],Bla[2])"
   ]
  },
  {
   "cell_type": "code",
   "execution_count": 18,
   "metadata": {},
   "outputs": [
    {
     "ename": "TypeError",
     "evalue": "unsupported operand type(s) for &: 'list' and 'list'",
     "output_type": "error",
     "traceback": [
      "\u001b[1;31m---------------------------------------------------------------------------\u001b[0m",
      "\u001b[1;31mTypeError\u001b[0m                                 Traceback (most recent call last)",
      "\u001b[1;32m<ipython-input-18-f8ac0a6e9397>\u001b[0m in \u001b[0;36m<module>\u001b[1;34m\u001b[0m\n\u001b[1;32m----> 1\u001b[1;33m \u001b[0mBla\u001b[0m\u001b[1;33m[\u001b[0m\u001b[1;36m0\u001b[0m\u001b[1;33m]\u001b[0m\u001b[1;33m&\u001b[0m\u001b[0mBla\u001b[0m\u001b[1;33m[\u001b[0m\u001b[1;36m1\u001b[0m\u001b[1;33m]\u001b[0m\u001b[1;33m\u001b[0m\u001b[1;33m\u001b[0m\u001b[0m\n\u001b[0m",
      "\u001b[1;31mTypeError\u001b[0m: unsupported operand type(s) for &: 'list' and 'list'"
     ]
    }
   ],
   "source": [
    "Bla[0]&Bla[1]"
   ]
  }
 ],
 "metadata": {
  "kernelspec": {
   "display_name": "parameterA",
   "language": "python",
   "name": "parametera"
  },
  "language_info": {
   "codemirror_mode": {
    "name": "ipython",
    "version": 3
   },
   "file_extension": ".py",
   "mimetype": "text/x-python",
   "name": "python",
   "nbconvert_exporter": "python",
   "pygments_lexer": "ipython3",
   "version": "3.8.6"
  }
 },
 "nbformat": 4,
 "nbformat_minor": 4
}
