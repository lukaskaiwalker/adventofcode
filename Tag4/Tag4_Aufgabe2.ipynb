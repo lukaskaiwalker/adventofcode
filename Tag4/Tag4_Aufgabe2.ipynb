{
 "cells": [
  {
   "cell_type": "code",
   "execution_count": 136,
   "metadata": {},
   "outputs": [],
   "source": [
    "file1 = open('Aufgabe4.csv', 'r') \n",
    "Lines = file1.readlines() "
   ]
  },
  {
   "cell_type": "code",
   "execution_count": 137,
   "metadata": {},
   "outputs": [
    {
     "data": {
      "text/plain": [
       "156"
      ]
     },
     "execution_count": 137,
     "metadata": {},
     "output_type": "execute_result"
    }
   ],
   "source": [
    "test=0\n",
    "for line in Lines:\n",
    "    if 'byr:' in line:\n",
    "        byr_start = line.index('byr:')+4\n",
    "        if line[byr_start+4] == ' ' or line[byr_start+4] == '\\n':\n",
    "            if int(line[byr_start:byr_start+4]) >= 1920 and int(line[byr_start:byr_start+4]) <= 2002:\n",
    "                byr=1\n",
    "    if 'iyr:' in line:\n",
    "        iyr_start = line.index('iyr:')+4\n",
    "        if line[iyr_start+4] == ' ' or line[iyr_start+4] == '\\n':\n",
    "            if int(line[iyr_start:iyr_start+4]) >= 2010 and int(line[iyr_start:iyr_start+4]) <= 2020:\n",
    "                iyr=1\n",
    "    if 'eyr:' in line:\n",
    "        eyr_start = line.index('eyr:')+4\n",
    "        if len(line[eyr_start:]) >4 and (line[eyr_start+4] == ' ' or line[eyr_start+4] == '\\n'):\n",
    "            if int(line[eyr_start:eyr_start+4]) >= 2020 and int(line[eyr_start:eyr_start+4]) <= 2030:\n",
    "                eyr=1        \n",
    "    if 'hgt:' in line:\n",
    "        hgt_start = line.index('hgt:')+4\n",
    "        if len(line[hgt_start:]) >5 and (line[hgt_start+5] == ' ' or line[hgt_start+5] == '\\n'):\n",
    "            if line[hgt_start+3:hgt_start+5] == 'cm' and int(line[hgt_start:hgt_start+3])>=150 and int(line[hgt_start:hgt_start+3])<=193 :\n",
    "                hgt=1       #An dieser Stelle ist ein möglicher Konflikt mit Länge der Variable \n",
    "        if len(line[hgt_start:]) >4 and (line[hgt_start+4] == ' ' or line[hgt_start+4] == '\\n'):\n",
    "            if line[hgt_start+2:hgt_start+4] == 'in' and int(line[hgt_start:hgt_start+2])>=59 and int(line[hgt_start:hgt_start+2])<=76 :\n",
    "                hgt=1       #An dieser Stelle ist ein möglicher Konflikt mit Länge der Variable \n",
    "    if 'hcl:#' in line:\n",
    "        hcl_start = line.index('hcl:#')+5\n",
    "        if len(line[hcl_start:])>6 and (line[hcl_start+6]==' ' or line[hcl_start+6]=='\\n'):\n",
    "            hcl = 0\n",
    "            for char in line[hcl_start:hcl_start+6]:\n",
    "                if char in ['0', '1', '2', '3', '4', '5', '6', '7', '8', '9', 'a', 'b', 'c', 'd', 'e', 'f']:\n",
    "                    hcl += 1\n",
    "                else:\n",
    "                    hcl=0\n",
    "            if hcl==6:\n",
    "                hcl=1\n",
    "            else:\n",
    "                hcl=0\n",
    "    if 'ecl:' in line:\n",
    "        ecl_valid = ['amb', 'blu', 'brn', 'gry', 'grn', 'hzl', 'oth']\n",
    "        ecl_start = line.index('ecl:')+4\n",
    "        if len(line[ecl_start:])>3 and (line[ecl_start+3]==' ' or line[ecl_start+3]=='\\n'):\n",
    "            if line[ecl_start:ecl_start+3] in ecl_valid:\n",
    "                    ecl=1\n",
    "    if 'pid:' in line:\n",
    "        pid_start = line.index('pid:')+4\n",
    "        if len(line[pid_start:])>9 and (line[pid_start+9]==' ' or line[pid_start+9]=='\\n'):\n",
    "            pid=0\n",
    "            for char in line[pid_start:pid_start+9]:\n",
    "                if char in ['0', '1', '2', '3', '4', '5', '6', '7', '8', '9']:\n",
    "                    pid +=1\n",
    "                else:\n",
    "                    pid=0\n",
    "            if pid ==9:\n",
    "                pid=1\n",
    "            else:\n",
    "                pid=0\n",
    "    if line=='\\n': \n",
    "        if byr==1 and iyr==1 and eyr==1 and hgt==1 and hcl==1 and ecl==1 and pid==1:\n",
    "            test+=1\n",
    "        byr=0\n",
    "        iyr=0\n",
    "        eyr=0\n",
    "        hgt=0\n",
    "        hcl=0\n",
    "        ecl=0\n",
    "        pid=0\n",
    "if byr==1 and iyr==1 and eyr==1 and hgt==1 and hcl==1 and ecl==1 and pid==1:\n",
    "    test+=1\n",
    "test + 1 #weil letzte Zeile nicht mit \\n endet"
   ]
  }
 ],
 "metadata": {
  "kernelspec": {
   "display_name": "parameterA",
   "language": "python",
   "name": "parametera"
  },
  "language_info": {
   "codemirror_mode": {
    "name": "ipython",
    "version": 3
   },
   "file_extension": ".py",
   "mimetype": "text/x-python",
   "name": "python",
   "nbconvert_exporter": "python",
   "pygments_lexer": "ipython3",
   "version": "3.8.6"
  }
 },
 "nbformat": 4,
 "nbformat_minor": 4
}
