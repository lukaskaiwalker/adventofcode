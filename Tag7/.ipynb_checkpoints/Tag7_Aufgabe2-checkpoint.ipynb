{
 "cells": [
  {
   "cell_type": "code",
   "execution_count": 1,
   "metadata": {},
   "outputs": [],
   "source": [
    "file = open('Aufgabe7.csv', 'r')\n",
    "Lines = file.readlines()\n",
    "\n"
   ]
  },
  {
   "cell_type": "code",
   "execution_count": 2,
   "metadata": {},
   "outputs": [],
   "source": [
    "i=0\n",
    "while i< len(Lines):\n",
    "    line = str(Lines[i])\n",
    "    line = line.replace(' bags contain ', ', ')\n",
    "    line = line.replace('.\\n','')\n",
    "    line = line.replace(' bags','')\n",
    "    line = line.replace(' bag','')\n",
    "    line = line.split(', ')\n",
    "    Lines[i]=line\n",
    "    i+=1"
   ]
  },
  {
   "cell_type": "code",
   "execution_count": 3,
   "metadata": {},
   "outputs": [],
   "source": [
    "def SucheTasche(bag_name, amount):\n",
    "    global Ergebnisstring\n",
    "    i = 0\n",
    "    j = 1\n",
    "    Ergebnisstring = Ergebnisstring + '('\n",
    "    #gehe durch alle Zeilen:\n",
    "    while i < len(Lines):\n",
    "        \n",
    "        j = 1\n",
    "        if Lines[i][0] == bag_name:\n",
    "\n",
    "            #gehe durch alle Inhalte der Zeile i:\n",
    "            while j < len(Lines[i]):\n",
    "                \n",
    "                Ergebnisstring = Ergebnisstring + ' + '\n",
    "               \n",
    "                #check, ob sich darin überhaupt Taschen befinden:\n",
    "                if Lines[i][j][0:2] != 'no':\n",
    "                    #Wie oft brauche ich die neue Tasche?\n",
    "                    anzahl = int(Lines[i][j][0:1])\n",
    "                    \n",
    "                    #Funktion wird mit neuer Tasche aufgerufen\n",
    "                    neueTasche = Lines[i][j][2:]\n",
    "                    \n",
    "                    SucheTasche(neueTasche, anzahl)\n",
    "                    \n",
    "                \n",
    "                #Letzter Eintrag der Kette\n",
    "                if Lines[i][j][0:2] == 'no':\n",
    "                    Ergebnisstring = Ergebnisstring + str(amount) + ')'\n",
    "                    return\n",
    "                j=j+1\n",
    "        i=i+1\n",
    "    #Multipliziert mit der Anzahl\n",
    "    Ergebnisstring = Ergebnisstring + ') * ' + str(amount) + ' + ' + str(amount)\n",
    "        "
   ]
  },
  {
   "cell_type": "code",
   "execution_count": 4,
   "metadata": {},
   "outputs": [],
   "source": [
    "Ergebnisstring = ''\n",
    "SucheTasche('shiny gold',1)"
   ]
  },
  {
   "cell_type": "code",
   "execution_count": 5,
   "metadata": {},
   "outputs": [
    {
     "name": "stdout",
     "output_type": "stream",
     "text": [
      "220149\n"
     ]
    }
   ],
   "source": [
    "print(eval(Ergebnisstring)-1)"
   ]
  }
 ],
 "metadata": {
  "kernelspec": {
   "display_name": "Python 3",
   "language": "python",
   "name": "python3"
  },
  "language_info": {
   "codemirror_mode": {
    "name": "ipython",
    "version": 3
   },
   "file_extension": ".py",
   "mimetype": "text/x-python",
   "name": "python",
   "nbconvert_exporter": "python",
   "pygments_lexer": "ipython3",
   "version": "3.7.4"
  }
 },
 "nbformat": 4,
 "nbformat_minor": 4
}
